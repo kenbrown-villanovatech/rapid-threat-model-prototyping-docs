{
  "nbformat": 4,
  "nbformat_minor": 0,
  "metadata": {
    "colab": {
      "name": "TagUI x Colab POC v1.ipynb",
      "provenance": [],
      "collapsed_sections": [],
      "include_colab_link": true
    },
    "kernelspec": {
      "name": "python3",
      "display_name": "Python 3"
    }
  },
  "cells": [
    {
      "cell_type": "markdown",
      "metadata": {
        "id": "view-in-github",
        "colab_type": "text"
      },
      "source": [
        "<a href=\"https://colab.research.google.com/github/kenbrown-villanovatech/rapid-threat-model-prototyping-docs/blob/master/TagUI_x_Colab_POC_v1.ipynb\" target=\"_parent\"><img src=\"https://colab.research.google.com/assets/colab-badge.svg\" alt=\"Open In Colab\"/></a>"
      ]
    },
    {
      "cell_type": "code",
      "metadata": {
        "id": "kl58MzRLyNgb"
      },
      "source": [
        "# setup RPA environment by installing PHP, Chromium web browser and TagUI Linux version\n",
        "!apt-get update; apt install php; apt install chromium-browser; wget https://github.com/kelaberetiv/TagUI/releases/download/v6.14.0/TagUI_Linux.zip; unzip TagUI_Linux.zip; cd tagui/src; wget -O tagui https://gist.githubusercontent.com/kensoh/b12a350513268df5456165180dbee6a6/raw/0947f8d53d5744eb7c51ba0a06448fc8b33b06ab/tagui"
      ],
      "execution_count": null,
      "outputs": []
    },
    {
      "cell_type": "code",
      "metadata": {
        "id": "kT6UnMFZst84"
      },
      "source": [
        "# run sample GitHub workflow showing license for TagUI project and downloading source code\n",
        "!tagui/src/tagui https://raw.githubusercontent.com/kelaberetiv/TagUI/master/flows/samples/2_github.tag -headless"
      ],
      "execution_count": null,
      "outputs": []
    },
    {
      "cell_type": "code",
      "metadata": {
        "id": "nHHncOWcz7d1",
        "colab": {
          "base_uri": "https://localhost:8080/"
        },
        "outputId": "5e8f4dd1-f867-41ad-ca41-4b85211fcc4c"
      },
      "source": [
        "# validate that the downloaded source code zip file exists and show the file's properties\n",
        "!ls -l TagUI-master.zip"
      ],
      "execution_count": null,
      "outputs": [
        {
          "output_type": "stream",
          "text": [
            "-rw-r--r-- 1 root root 11595175 Apr  9 09:31 TagUI-master.zip\n"
          ],
          "name": "stdout"
        }
      ]
    },
    {
      "cell_type": "code",
      "metadata": {
        "id": "0pwTBQUDUtsN"
      },
      "source": [
        "# [OPTIONAL] with Chrome browser you can download RPA output files to computer or phone\n",
        "# from google.colab import files; files.download('TagUI-master.zip')"
      ],
      "execution_count": null,
      "outputs": []
    },
    {
      "cell_type": "code",
      "metadata": {
        "id": "ci6PcEonbWJh"
      },
      "source": [
        ""
      ],
      "execution_count": null,
      "outputs": []
    }
  ]
}